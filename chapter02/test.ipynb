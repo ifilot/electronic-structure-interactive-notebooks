{
 "cells": [
  {
   "cell_type": "code",
   "execution_count": 1,
   "metadata": {
    "tags": []
   },
   "outputs": [
    {
     "name": "stderr",
     "output_type": "stream",
     "text": [
      "C:\\Users\\ifilot\\AppData\\Local\\anaconda3\\Lib\\site-packages\\traittypes\\traittypes.py:97: UserWarning: Given trait value dtype \"float32\" does not match required type \"float64\". A coerced copy has been created.\n",
      "  warnings.warn(\n",
      "C:\\Users\\ifilot\\AppData\\Local\\anaconda3\\Lib\\site-packages\\traittypes\\traittypes.py:97: UserWarning: Given trait value dtype \"uint32\" does not match required type \"float64\". A coerced copy has been created.\n",
      "  warnings.warn(\n"
     ]
    },
    {
     "data": {
      "application/vnd.jupyter.widget-view+json": {
       "model_id": "38eb4add2f1b4622a2b4a4e2a423099e",
       "version_major": 2,
       "version_minor": 0
      },
      "text/plain": [
       "Renderer(camera=PerspectiveCamera(position=(5.0, 5.0, 5.0), projectionMatrix=(1.0, 0.0, 0.0, 0.0, 0.0, 1.0, 0.…"
      ]
     },
     "metadata": {},
     "output_type": "display_data"
    }
   ],
   "source": [
    "from pytessel import PyTessel\n",
    "import numpy as np\n",
    "import trimesh\n",
    "import pythreejs as p3\n",
    "\n",
    "def f(x,y,z,X0,Y0,Z0):\n",
    "    \"\"\"\n",
    "    Single metaball function\n",
    "    \"\"\"\n",
    "    return 1 / ((x - X0)**2 + (y - Y0)**2 + (z - Z0)**2)\n",
    "\n",
    "def icosahedron_field(x,y,z):\n",
    "    \"\"\"\n",
    "    Produce a scalar field for the icosahedral metaballs\n",
    "    \"\"\"\n",
    "    phi = (1 + np.sqrt(5)) / 2\n",
    "    vertices = [\n",
    "        [0,1,phi],\n",
    "        [0,-1,-phi],\n",
    "        [0,1,-phi],\n",
    "        [0,-1,phi],\n",
    "        [1,phi,0],\n",
    "        [-1,-phi,0],\n",
    "        [1,-phi,0],\n",
    "        [-1,phi,0],\n",
    "        [phi,0,1],\n",
    "        [-phi,0,-1],\n",
    "        [phi,0,-1],\n",
    "        [-phi,0,1]\n",
    "    ]\n",
    "\n",
    "    xx,yy,zz = np.meshgrid(x,y,z)\n",
    "    field = np.zeros_like(xx)\n",
    "    for v in vertices:\n",
    "        field += f(xx,yy,zz,v[0], v[1],v[2])\n",
    "\n",
    "    return xx,yy,zz,field\n",
    "\n",
    "pytessel = PyTessel()\n",
    "\n",
    "# generate scalar field and tesselate it\n",
    "x = np.linspace(-3, 3, 101)\n",
    "xx, yy, zz, field = icosahedron_field(x,x,x)\n",
    "unitcell = np.diag(np.ones(3) * 3 * 2)\n",
    "pytessel = PyTessel()\n",
    "isovalue = 3.75\n",
    "vertices, normals, indices = pytessel.marching_cubes(field.flatten(), field.shape, unitcell.flatten(), isovalue)\n",
    "pytessel.write_ply('test.ply', vertices, normals, indices)\n",
    "\n",
    "# Load a 3D mesh from a file (Change to your actual file)\n",
    "mesh = trimesh.load_mesh(\"test.ply\")  # Change to \"model.stl\" if using STL\n",
    "\n",
    "# Extract vertices and faces\n",
    "vertices = mesh.vertices\n",
    "faces = mesh.faces\n",
    "\n",
    "# Convert to Three.js format\n",
    "geometry = p3.BufferGeometry(\n",
    "    attributes={\n",
    "        \"position\": p3.BufferAttribute(vertices.astype(np.float32), normalized=False),\n",
    "        \"index\": p3.BufferAttribute(faces.astype(np.uint32).ravel(), normalized=False),\n",
    "        #\"color\": p3.BufferAttribute(np.repeat(colors, 3, axis=0).astype(np.float32), normalized=False)\n",
    "    }\n",
    ")\n",
    "\n",
    "# Solid Mesh with Normal-Based Colors\n",
    "solid_material = p3.MeshStandardMaterial(\n",
    "    color=\"lightblue\",\n",
    "    side=\"DoubleSide\"\n",
    ")\n",
    "\n",
    "mesh_object = p3.Mesh(geometry=geometry, material=solid_material)\n",
    "\n",
    "# Wireframe Overlay\n",
    "wireframe_material = p3.LineBasicMaterial(color=\"black\", linewidth=1.0)  # Thin black lines\n",
    "wireframe = p3.LineSegments(\n",
    "    p3.EdgesGeometry(geometry),  # Extracts edges from geometry\n",
    "    wireframe_material\n",
    ")\n",
    "\n",
    "# Lighting setup\n",
    "ambient_light = p3.AmbientLight(color=\"white\", intensity=0.8)  # Soft background light\n",
    "\n",
    "# Create Scene\n",
    "scene = p3.Scene(children=[mesh_object, wireframe, ambient_light, p3.AxesHelper(size=2)])\n",
    "camera = p3.PerspectiveCamera(position=[5, 5, 5], fov=50)\n",
    "controller = p3.OrbitControls(controlling=camera)\n",
    "\n",
    "# Render in Jupyter Notebook with Better Performance\n",
    "renderer = p3.Renderer(\n",
    "    scene=scene, camera=camera, controls=[controller], \n",
    "    width=700, height=700, antialias=True\n",
    ")\n",
    "\n",
    "display(renderer)"
   ]
  }
 ],
 "metadata": {
  "kernelspec": {
   "display_name": "Python 3 (ipykernel)",
   "language": "python",
   "name": "python3"
  },
  "language_info": {
   "codemirror_mode": {
    "name": "ipython",
    "version": 3
   },
   "file_extension": ".py",
   "mimetype": "text/x-python",
   "name": "python",
   "nbconvert_exporter": "python",
   "pygments_lexer": "ipython3",
   "version": "3.11.5"
  }
 },
 "nbformat": 4,
 "nbformat_minor": 4
}
